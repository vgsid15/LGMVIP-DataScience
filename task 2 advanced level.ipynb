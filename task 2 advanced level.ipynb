{
 "cells": [
  {
   "cell_type": "markdown",
   "metadata": {
    "id": "UPQhXAFSZNsj"
   },
   "source": [
    "Siddhaarthan V\n",
    "\n",
    "LetsGrowMore\n",
    "\n",
    "Advanced Level Task 2: Next Word Prediction"
   ]
  },
  {
   "cell_type": "code",
   "execution_count": 1,
   "metadata": {
    "id": "c8d7hIoOZNKU"
   },
   "outputs": [],
   "source": [
    "# Importing Libraries\n",
    "import numpy as np\n",
    "from nltk.tokenize import RegexpTokenizer\n",
    "from keras.models import Sequential, load_model\n",
    "from keras.layers import LSTM\n",
    "from keras.layers.core import Dense, Activation\n",
    "from tensorflow.keras.optimizers import RMSprop\n",
    "import matplotlib.pyplot as plt\n",
    "import pickle\n",
    "import heapq"
   ]
  },
  {
   "cell_type": "code",
   "execution_count": 2,
   "metadata": {
    "colab": {
     "base_uri": "https://localhost:8080/"
    },
    "id": "xAe0RJjybdgm",
    "outputId": "06634f9f-ae5a-4c1e-c9d4-8ba69441754f"
   },
   "outputs": [
    {
     "name": "stdout",
     "output_type": "stream",
     "text": [
      "Corpus Length: 581888\n"
     ]
    }
   ],
   "source": [
    "# Loading the Dataset\n",
    "path = '1661-0.txt'\n",
    "text = open(path).read().lower()\n",
    "print('Corpus Length:', len(text))"
   ]
  },
  {
   "cell_type": "code",
   "execution_count": 3,
   "metadata": {
    "id": "pozWArCxbeNX"
   },
   "outputs": [],
   "source": [
    "# Splitting Dataset into one word each\n",
    "tokenizer = RegexpTokenizer(r'\\w+')\n",
    "words = tokenizer.tokenize(text)"
   ]
  },
  {
   "cell_type": "code",
   "execution_count": 4,
   "metadata": {
    "id": "nsx_SSX4bgTl"
   },
   "outputs": [],
   "source": [
    "# Making list of Sorted Unique Words\n",
    "unique_words = np.unique(words)\n",
    "unique_word_index = dict((c, i) for i, c in enumerate(unique_words))"
   ]
  },
  {
   "cell_type": "code",
   "execution_count": 5,
   "metadata": {
    "colab": {
     "base_uri": "https://localhost:8080/"
    },
    "id": "n3abB0cubiZH",
    "outputId": "53111c4a-e2a4-4bec-8843-4491476056b7"
   },
   "outputs": [
    {
     "name": "stdout",
     "output_type": "stream",
     "text": [
      "['project', 'gutenberg', 's', 'the']\n",
      "adventures\n"
     ]
    }
   ],
   "source": [
    "# Feature Engineering\n",
    "WORD_LENGTH = 4\n",
    "prev_words = []\n",
    "next_words = []\n",
    "for i in range(len(words) - WORD_LENGTH):\n",
    "    prev_words.append(words[i:i + WORD_LENGTH])\n",
    "    next_words.append(words[i + WORD_LENGTH])\n",
    "print(prev_words[0])\n",
    "print(next_words[0])"
   ]
  },
  {
   "cell_type": "code",
   "execution_count": 6,
   "metadata": {
    "id": "AotYxvEsblaP"
   },
   "outputs": [],
   "source": [
    "# Storing Features and Corresponding Labels\n",
    "X = np.zeros((len(prev_words), WORD_LENGTH, len(unique_words)), dtype=bool)\n",
    "Y = np.zeros((len(next_words), len(unique_words)), dtype=bool)\n",
    "for i, each_words in enumerate(prev_words):\n",
    "    for j, each_word in enumerate(each_words):\n",
    "        X[i, j, unique_word_index[each_word]] = 1\n",
    "    Y[i, unique_word_index[next_words[i]]] = 1"
   ]
  },
  {
   "cell_type": "code",
   "execution_count": 7,
   "metadata": {
    "colab": {
     "base_uri": "https://localhost:8080/"
    },
    "id": "dcYG4WxhbnUN",
    "outputId": "71ea59f9-2832-48c3-ff73-483ccec484ef"
   },
   "outputs": [
    {
     "name": "stdout",
     "output_type": "stream",
     "text": [
      "[False False False ... False False False]\n"
     ]
    }
   ],
   "source": [
    "print(X[0][0])"
   ]
  },
  {
   "cell_type": "code",
   "execution_count": 8,
   "metadata": {
    "id": "WnoaDJ7ebo1S"
   },
   "outputs": [],
   "source": [
    "# Building the Model\n",
    "model = Sequential()\n",
    "model.add(LSTM(128, input_shape=(WORD_LENGTH, len(unique_words))))\n",
    "model.add(Dense(len(unique_words)))\n",
    "model.add(Activation('softmax'))"
   ]
  },
  {
   "cell_type": "code",
   "execution_count": 9,
   "metadata": {
    "colab": {
     "base_uri": "https://localhost:8080/"
    },
    "id": "DIigEjlnbqfp",
    "outputId": "133b6c72-bea0-4b1e-866f-294e4acc42c1"
   },
   "outputs": [
    {
     "name": "stdout",
     "output_type": "stream",
     "text": [
      "Epoch 1/20\n",
      "811/811 [==============================] - 220s 268ms/step - loss: 6.0084 - accuracy: 0.1083 - val_loss: 7.0213 - val_accuracy: 0.0989\n",
      "Epoch 2/20\n",
      "811/811 [==============================] - 216s 267ms/step - loss: 5.7588 - accuracy: 0.1482 - val_loss: 7.8365 - val_accuracy: 0.1098\n",
      "Epoch 3/20\n",
      "811/811 [==============================] - 217s 268ms/step - loss: 5.7375 - accuracy: 0.1766 - val_loss: 8.0783 - val_accuracy: 0.1023\n",
      "Epoch 4/20\n",
      "811/811 [==============================] - 216s 267ms/step - loss: 5.4483 - accuracy: 0.2092 - val_loss: 8.3023 - val_accuracy: 0.1080\n",
      "Epoch 5/20\n",
      "811/811 [==============================] - 217s 267ms/step - loss: 5.1646 - accuracy: 0.2478 - val_loss: 8.2617 - val_accuracy: 0.1009\n",
      "Epoch 6/20\n",
      "811/811 [==============================] - 217s 268ms/step - loss: 4.9234 - accuracy: 0.2861 - val_loss: 8.5635 - val_accuracy: 0.0934\n",
      "Epoch 7/20\n",
      "811/811 [==============================] - 216s 267ms/step - loss: 4.7245 - accuracy: 0.3225 - val_loss: 8.5912 - val_accuracy: 0.0881\n",
      "Epoch 8/20\n",
      "811/811 [==============================] - 216s 266ms/step - loss: 4.5564 - accuracy: 0.3567 - val_loss: 8.8287 - val_accuracy: 0.0892\n",
      "Epoch 9/20\n",
      "811/811 [==============================] - 216s 267ms/step - loss: 4.4148 - accuracy: 0.3878 - val_loss: 8.6693 - val_accuracy: 0.0871\n",
      "Epoch 10/20\n",
      "811/811 [==============================] - 217s 268ms/step - loss: 4.3284 - accuracy: 0.4106 - val_loss: 8.7876 - val_accuracy: 0.0859\n",
      "Epoch 11/20\n",
      "811/811 [==============================] - 216s 267ms/step - loss: 4.2354 - accuracy: 0.4377 - val_loss: 8.7589 - val_accuracy: 0.0851\n",
      "Epoch 12/20\n",
      "811/811 [==============================] - 217s 267ms/step - loss: 4.1244 - accuracy: 0.4621 - val_loss: 8.8571 - val_accuracy: 0.0842\n",
      "Epoch 13/20\n",
      "811/811 [==============================] - 217s 268ms/step - loss: 4.0224 - accuracy: 0.4821 - val_loss: 9.0767 - val_accuracy: 0.0793\n",
      "Epoch 14/20\n",
      "811/811 [==============================] - 217s 268ms/step - loss: 3.9329 - accuracy: 0.5000 - val_loss: 9.1157 - val_accuracy: 0.0732\n",
      "Epoch 15/20\n",
      "811/811 [==============================] - 218s 268ms/step - loss: 3.8530 - accuracy: 0.5175 - val_loss: 9.1558 - val_accuracy: 0.0773\n",
      "Epoch 16/20\n",
      "811/811 [==============================] - 216s 266ms/step - loss: 3.7868 - accuracy: 0.5304 - val_loss: 9.1429 - val_accuracy: 0.0747\n",
      "Epoch 17/20\n",
      "811/811 [==============================] - 216s 267ms/step - loss: 3.7185 - accuracy: 0.5426 - val_loss: 9.2185 - val_accuracy: 0.0741\n",
      "Epoch 18/20\n",
      "811/811 [==============================] - 217s 268ms/step - loss: 3.6676 - accuracy: 0.5520 - val_loss: 9.3796 - val_accuracy: 0.0765\n",
      "Epoch 19/20\n",
      "811/811 [==============================] - 217s 268ms/step - loss: 3.6096 - accuracy: 0.5632 - val_loss: 9.4150 - val_accuracy: 0.0738\n",
      "Epoch 20/20\n",
      "811/811 [==============================] - 217s 268ms/step - loss: 3.5698 - accuracy: 0.5726 - val_loss: 9.4904 - val_accuracy: 0.0754\n"
     ]
    }
   ],
   "source": [
    "# Training Our Model\n",
    "optimizer = RMSprop(learning_rate=0.01)\n",
    "model.compile(loss='categorical_crossentropy', optimizer=optimizer, metrics=['accuracy'])\n",
    "history = model.fit(X, Y, validation_split=0.05, batch_size=128, epochs=20, shuffle=True).history"
   ]
  },
  {
   "cell_type": "code",
   "execution_count": 10,
   "metadata": {
    "id": "JOvulqD7byH_"
   },
   "outputs": [],
   "source": [
    "# Loading Our Model\n",
    "model.save('keras_next_word_model.h5')\n",
    "pickle.dump(history, open(\"history.p\", \"wb\"))\n",
    "model = load_model('keras_next_word_model.h5')\n",
    "history = pickle.load(open(\"history.p\", \"rb\"))"
   ]
  },
  {
   "cell_type": "code",
   "execution_count": 11,
   "metadata": {
    "colab": {
     "base_uri": "https://localhost:8080/"
    },
    "id": "4JtiPAd3b0jU",
    "outputId": "f9a5d935-0690-4013-f844-58c164af60c5"
   },
   "outputs": [
    {
     "name": "stdout",
     "output_type": "stream",
     "text": [
      "how\n",
      "are\n",
      "you\n"
     ]
    },
    {
     "data": {
      "text/plain": [
       "array([[[0., 0., 0., ..., 0., 0., 0.],\n",
       "        [0., 0., 0., ..., 0., 0., 0.],\n",
       "        [0., 0., 0., ..., 0., 0., 0.],\n",
       "        [0., 0., 0., ..., 0., 0., 0.]]])"
      ]
     },
     "execution_count": 11,
     "metadata": {},
     "output_type": "execute_result"
    }
   ],
   "source": [
    "# Making Predictions\n",
    "def prepare_input(text):\n",
    "    x = np.zeros((1, WORD_LENGTH, len(unique_words)))\n",
    "    for t, word in enumerate(text.split()):\n",
    "        print(word)\n",
    "        x[0, t, unique_word_index[word]] = 1\n",
    "    return x\n",
    "prepare_input(\"How are you \".lower())"
   ]
  },
  {
   "cell_type": "code",
   "execution_count": 12,
   "metadata": {
    "id": "mVtt8ZDdb2BB"
   },
   "outputs": [],
   "source": [
    "def sample(preds, top_n=3):\n",
    "    preds = np.asarray(preds).astype('float64')\n",
    "    preds = np.log(preds)\n",
    "    exp_preds = np.exp(preds)\n",
    "    preds = exp_preds / np.sum(exp_preds)\n",
    "    return heapq.nlargest(top_n, range(len(preds)), preds.take)"
   ]
  },
  {
   "cell_type": "code",
   "execution_count": 13,
   "metadata": {
    "id": "RQHa32Nzb4eT"
   },
   "outputs": [],
   "source": [
    "# Function for Prediction\n",
    "def predict_completions(text, n=3):\n",
    "    if text == \"\":\n",
    "        return(\"0\")\n",
    "    x = prepare_input(text)\n",
    "    preds = model.predict(x, verbose=0)[0]\n",
    "    next_indices = sample(preds, n)\n",
    "    return [unique_words[idx] for idx in next_indices]"
   ]
  },
  {
   "cell_type": "code",
   "execution_count": 14,
   "metadata": {
    "colab": {
     "base_uri": "https://localhost:8080/"
    },
    "id": "99HPazXWb57E",
    "outputId": "bac4ab7c-5fa6-447d-8abb-bc2987410d06"
   },
   "outputs": [
    {
     "name": "stdout",
     "output_type": "stream",
     "text": [
      "Sentence:  Will you be my partner?\n",
      "Sequence:  will you\n",
      "will\n",
      "you\n",
      "Next Possible Words:  ['very', 'night']\n"
     ]
    }
   ],
   "source": [
    "s =  \"Will you be my partner?\"\n",
    "print(\"Sentence: \",s)\n",
    "seq = \" \".join(tokenizer.tokenize(s.lower())[0:2])\n",
    "print(\"Sequence: \",seq)\n",
    "print(\"Next Possible Words: \", predict_completions(seq, 2))"
   ]
  },
  {
   "cell_type": "code",
   "execution_count": 17,
   "metadata": {
    "colab": {
     "base_uri": "https://localhost:8080/"
    },
    "id": "IyFqq5I8-t2Q",
    "outputId": "f7def7f3-65a7-494c-9427-166575411375"
   },
   "outputs": [
    {
     "name": "stdout",
     "output_type": "stream",
     "text": [
      "Sentence:  This is not going anywhere.\n",
      "Sequence:  this is not going\n",
      "this\n",
      "is\n",
      "not\n",
      "going\n",
      "Next Possible Words:  ['to', 'on', 'for', 'out']\n"
     ]
    }
   ],
   "source": [
    "sen =  \"This is not going anywhere.\"\n",
    "print(\"Sentence: \",sen)\n",
    "sequ = \" \".join(tokenizer.tokenize(sen.lower())[0:4])\n",
    "print(\"Sequence: \",sequ)\n",
    "print(\"Next Possible Words: \", predict_completions(sequ, 4))"
   ]
  }
 ],
 "metadata": {
  "colab": {
   "name": "Lets_Grow_More(Advanced_Level_Task_2).ipynb",
   "provenance": []
  },
  "kernelspec": {
   "display_name": "Python 3 (ipykernel)",
   "language": "python",
   "name": "python3"
  },
  "language_info": {
   "codemirror_mode": {
    "name": "ipython",
    "version": 3
   },
   "file_extension": ".py",
   "mimetype": "text/x-python",
   "name": "python",
   "nbconvert_exporter": "python",
   "pygments_lexer": "ipython3",
   "version": "3.9.12"
  }
 },
 "nbformat": 4,
 "nbformat_minor": 1
}
